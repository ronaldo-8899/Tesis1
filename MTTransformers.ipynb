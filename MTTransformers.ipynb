{
  "cells": [
    {
      "cell_type": "markdown",
      "metadata": {
        "id": "4WzqttbYcd_S"
      },
      "source": [
        "Este es un cuaderno complementario del libro [Aprendizaje profundo con Python, segunda edición](https://www.manning.com/books/deep-learning-with-python-second-edition?a_aid=keras&a_bid=76564dff)."
      ]
    },
    {
      "cell_type": "markdown",
      "metadata": {
        "id": "qs4h7Aq0cd_Z"
      },
      "source": [
        "## Traduccion automatica usando transformers"
      ]
    },
    {
      "cell_type": "markdown",
      "metadata": {
        "id": "zimLnEeVcd_b"
      },
      "source": [
        "### Recoleccion de datos\n",
        "\n"
      ]
    },
    {
      "cell_type": "code",
      "execution_count": 1,
      "metadata": {
        "id": "9jxZo1fAvIFX"
      },
      "outputs": [],
      "source": [
        "text_file1 = \"esp.txt\" \n",
        "text_file2 = \"que.txt\"\n",
        "\n",
        "with open(text_file1) as f:\n",
        "    lines1 = f.read().split(\"\\n\")[:-1]\n",
        "with open(text_file2) as f:\n",
        "    lines2 = f.read().split(\"\\n\")[:-1]\n",
        "text_pairs = [] \n",
        "\n",
        "for i in range(0,len(lines2)):\n",
        "    español  = lines1[i]\n",
        "    quechua  = lines2[i]\n",
        "    if español != quechua:\n",
        "       quechua = \"[start] \" + quechua + \" [end]\"\n",
        "       text_pairs.append((español, quechua))"
      ]
    },
    {
      "cell_type": "code",
      "execution_count": 2,
      "metadata": {
        "colab": {
          "base_uri": "https://localhost:8080/"
        },
        "id": "HpjUJxs20HwI",
        "outputId": "85de695b-c021-426d-a657-476c756b3273"
      },
      "outputs": [
        {
          "output_type": "stream",
          "name": "stdout",
          "text": [
            "('Artículos de estudio 1 y 2 PÁGINAS 8 - 16', '[start] 1 , 2 ukhunchanapaq yachaqanas 8 - 16 PAGINASPI [end]')\n"
          ]
        }
      ],
      "source": [
        "import random\n",
        "print(random.choice(text_pairs))"
      ]
    },
    {
      "cell_type": "code",
      "execution_count": 3,
      "metadata": {
        "id": "aaJ6SZvocd_h"
      },
      "outputs": [],
      "source": [
        "import random\n",
        "random.shuffle(text_pairs)\n",
        "num_val_samples = int(0.15 * len(text_pairs))\n",
        "num_train_samples = len(text_pairs) - 2 * num_val_samples\n",
        "train_pairs = text_pairs[:num_train_samples]\n",
        "val_pairs = text_pairs[num_train_samples:num_train_samples + num_val_samples]\n",
        "test_pairs = text_pairs[num_train_samples + num_val_samples:]"
      ]
    },
    {
      "cell_type": "markdown",
      "metadata": {
        "id": "oGx4oyiycd_i"
      },
      "source": [
        "**Vectorizando los pares de texto en español y quechua**"
      ]
    },
    {
      "cell_type": "code",
      "execution_count": 4,
      "metadata": {
        "id": "Zujffb7pcd_j"
      },
      "outputs": [],
      "source": [
        "import tensorflow as tf\n",
        "from tensorflow.keras import layers\n",
        "import string\n",
        "import re\n",
        "\n",
        "strip_chars = string.punctuation + \"¿\"\n",
        "strip_chars = strip_chars.replace(\"[\", \"\")\n",
        "strip_chars = strip_chars.replace(\"]\", \"\")\n",
        "\n",
        "def custom_standardization(input_string):\n",
        "    lowercase = tf.strings.lower(input_string)\n",
        "    return tf.strings.regex_replace(\n",
        "        lowercase, f\"[{re.escape(strip_chars)}]\", \"\")\n",
        "\n",
        "vocab_size = 15000\n",
        "sequence_length = 20\n",
        "\n",
        "source_vectorization = layers.TextVectorization(\n",
        "    max_tokens=vocab_size,\n",
        "    output_mode=\"int\",\n",
        "    output_sequence_length=sequence_length,\n",
        ")\n",
        "target_vectorization = layers.TextVectorization(\n",
        "    max_tokens=vocab_size,\n",
        "    output_mode=\"int\",\n",
        "    output_sequence_length=sequence_length + 1,\n",
        "    standardize=custom_standardization,\n",
        ")\n",
        "train_spanish_texts = [pair[0] for pair in train_pairs]\n",
        "train_quechua_texts = [pair[1] for pair in train_pairs]\n",
        "source_vectorization.adapt(train_spanish_texts)\n",
        "target_vectorization.adapt(train_quechua_texts)"
      ]
    },
    {
      "cell_type": "markdown",
      "metadata": {
        "id": "jQVjJY_vcd_l"
      },
      "source": [
        "**Preparing datasets for the translation task**"
      ]
    },
    {
      "cell_type": "code",
      "execution_count": 5,
      "metadata": {
        "id": "3f2AkldScd_m"
      },
      "outputs": [],
      "source": [
        "batch_size = 100\n",
        "\n",
        "def format_dataset(spa, que):\n",
        "    spa = source_vectorization(spa)\n",
        "    que = target_vectorization(que)\n",
        "    return ({\n",
        "        \"español\": spa,\n",
        "        \"quechua\": que[:, :-1],\n",
        "    }, que[:, 1:])\n",
        "\n",
        "def make_dataset(pairs):\n",
        "    spa_texts, que_texts = zip(*pairs)\n",
        "    spa_texts = list(spa_texts)\n",
        "    que_texts = list(que_texts)\n",
        "    dataset = tf.data.Dataset.from_tensor_slices((spa_texts, que_texts))\n",
        "    dataset = dataset.batch(batch_size)\n",
        "    dataset = dataset.map(format_dataset, num_parallel_calls=4)\n",
        "    return dataset.shuffle(2048).prefetch(16).cache()\n",
        "\n",
        "train_ds = make_dataset(train_pairs)\n",
        "val_ds = make_dataset(val_pairs)"
      ]
    },
    {
      "cell_type": "code",
      "execution_count": 7,
      "metadata": {
        "colab": {
          "base_uri": "https://localhost:8080/"
        },
        "id": "aUCAbxB1cd_n",
        "outputId": "63b9dda3-cbb5-4c21-f0b0-77ee91dd3f46"
      },
      "outputs": [
        {
          "output_type": "stream",
          "name": "stdout",
          "text": [
            "inputs['español'].shape: (100, 20)\n",
            "inputs['quechua'].shape: (100, 20)\n",
            "targets.shape: (100, 20)\n"
          ]
        }
      ],
      "source": [
        "for inputs, targets in train_ds.take(1):\n",
        "    print(f\"inputs['español'].shape: {inputs['español'].shape}\")\n",
        "    print(f\"inputs['quechua'].shape: {inputs['quechua'].shape}\")\n",
        "    print(f\"targets.shape: {targets.shape}\")"
      ]
    },
    {
      "cell_type": "markdown",
      "metadata": {
        "id": "4EYWmSldcd_v"
      },
      "source": [
        "### Sequence-to-sequence learning with Transformer"
      ]
    },
    {
      "cell_type": "code",
      "execution_count": 8,
      "metadata": {
        "id": "bVayEf57mbKU"
      },
      "outputs": [],
      "source": [
        "class TransformerEncoder(layers.Layer):\n",
        "    def __init__(self, embed_dim, dense_dim, num_heads, **kwargs):\n",
        "        super().__init__(**kwargs)\n",
        "        self.embed_dim = embed_dim\n",
        "        self.dense_dim = dense_dim\n",
        "        self.num_heads = num_heads\n",
        "        self.attention = layers.MultiHeadAttention(num_heads=num_heads, key_dim=embed_dim)\n",
        "        self.dense_proj = keras.Sequential([layers.Dense(dense_dim, activation=\"relu\"),layers.Dense(embed_dim),]\n",
        "        )\n",
        "        self.layernorm_1 = layers.LayerNormalization()\n",
        "        self.layernorm_2 = layers.LayerNormalization()\n",
        "\n",
        "    def call(self, inputs, mask=None):\n",
        "        if mask is not None:\n",
        "            mask = mask[:, tf.newaxis, :]\n",
        "        attention_output = self.attention(inputs, inputs, attention_mask=mask)\n",
        "        proj_input = self.layernorm_1(inputs + attention_output)\n",
        "        proj_output = self.dense_proj(proj_input)\n",
        "        return self.layernorm_2(proj_input + proj_output)\n",
        "\n",
        "    def get_config(self):\n",
        "        config = super().get_config()\n",
        "        config.update({\n",
        "            \"embed_dim\": self.embed_dim,\n",
        "            \"num_heads\": self.num_heads,\n",
        "            \"dense_dim\": self.dense_dim,\n",
        "        })\n",
        "        return config"
      ]
    },
    {
      "cell_type": "markdown",
      "metadata": {
        "id": "KI-aCOmpcd_w"
      },
      "source": [
        "#### The Transformer decoder"
      ]
    },
    {
      "cell_type": "markdown",
      "metadata": {
        "id": "lnKhcitHcd_x"
      },
      "source": [
        "**The `TransformerDecoder`**"
      ]
    },
    {
      "cell_type": "code",
      "execution_count": 9,
      "metadata": {
        "id": "VzNdRzz_cd_y"
      },
      "outputs": [],
      "source": [
        "class TransformerDecoder(layers.Layer):\n",
        "    def __init__(self, embed_dim, dense_dim, num_heads, **kwargs):\n",
        "        super().__init__(**kwargs)\n",
        "        self.embed_dim = embed_dim\n",
        "        self.dense_dim = dense_dim\n",
        "        self.num_heads = num_heads\n",
        "        self.attention_1 = layers.MultiHeadAttention(num_heads=num_heads, key_dim=embed_dim)\n",
        "        self.attention_2 = layers.MultiHeadAttention(num_heads=num_heads, key_dim=embed_dim)\n",
        "        self.dense_proj = keras.Sequential([layers.Dense(dense_dim, activation=\"relu\"),layers.Dense(embed_dim),]\n",
        "        )\n",
        "        self.layernorm_1 = layers.LayerNormalization()\n",
        "        self.layernorm_2 = layers.LayerNormalization()\n",
        "        self.layernorm_3 = layers.LayerNormalization()\n",
        "        self.supports_masking = True\n",
        "\n",
        "    def get_config(self):\n",
        "        config = super().get_config()\n",
        "        config.update({\n",
        "            \"embed_dim\": self.embed_dim,\n",
        "            \"num_heads\": self.num_heads,\n",
        "            \"dense_dim\": self.dense_dim,\n",
        "        })\n",
        "        return config\n",
        "\n",
        "    def get_causal_attention_mask(self, inputs):\n",
        "        input_shape = tf.shape(inputs)\n",
        "        batch_size, sequence_length = input_shape[0], input_shape[1]\n",
        "        i = tf.range(sequence_length)[:, tf.newaxis]\n",
        "        j = tf.range(sequence_length)\n",
        "        mask = tf.cast(i >= j, dtype=\"int32\")\n",
        "        mask = tf.reshape(mask, (1, input_shape[1], input_shape[1]))\n",
        "        mult = tf.concat([tf.expand_dims(batch_size, -1),tf.constant([1, 1], dtype=tf.int32)], axis=0)\n",
        "        return tf.tile(mask, mult)\n",
        "\n",
        "    def call(self, inputs, encoder_outputs, mask=None):\n",
        "        causal_mask = self.get_causal_attention_mask(inputs)\n",
        "        if mask is not None:\n",
        "            padding_mask = tf.cast(mask[:, tf.newaxis, :], dtype=\"int32\")\n",
        "            padding_mask = tf.minimum(padding_mask, causal_mask)\n",
        "        attention_output_1 = self.attention_1(query=inputs,value=inputs,key=inputs,attention_mask=causal_mask)\n",
        "        attention_output_1 = self.layernorm_1(inputs + attention_output_1)\n",
        "        attention_output_2 = self.attention_2(query=attention_output_1,value=encoder_outputs,key=encoder_outputs,attention_mask=padding_mask,)\n",
        "        attention_output_2 = self.layernorm_2(attention_output_1 + attention_output_2)\n",
        "        proj_output = self.dense_proj(attention_output_2)\n",
        "        return self.layernorm_3(attention_output_2 + proj_output)"
      ]
    },
    {
      "cell_type": "markdown",
      "metadata": {
        "id": "BD7b3HMKcd_z"
      },
      "source": [
        "#### Putting it all together: A Transformer for machine translation"
      ]
    },
    {
      "cell_type": "markdown",
      "metadata": {
        "id": "ArKtxCmAcd_z"
      },
      "source": [
        "**PositionalEmbedding layer**"
      ]
    },
    {
      "cell_type": "code",
      "execution_count": 10,
      "metadata": {
        "id": "vLFd6WhNcd_0"
      },
      "outputs": [],
      "source": [
        "class PositionalEmbedding(layers.Layer):\n",
        "    def __init__(self, sequence_length, input_dim, output_dim, **kwargs):\n",
        "        super().__init__(**kwargs)\n",
        "        self.token_embeddings = layers.Embedding(\n",
        "            input_dim=input_dim, output_dim=output_dim)\n",
        "        self.position_embeddings = layers.Embedding(\n",
        "            input_dim=sequence_length, output_dim=output_dim)\n",
        "        self.sequence_length = sequence_length\n",
        "        self.input_dim = input_dim\n",
        "        self.output_dim = output_dim\n",
        "\n",
        "    def call(self, inputs):\n",
        "        length = tf.shape(inputs)[-1]\n",
        "        positions = tf.range(start=0, limit=length, delta=1)\n",
        "        embedded_tokens = self.token_embeddings(inputs)\n",
        "        embedded_positions = self.position_embeddings(positions)\n",
        "        return embedded_tokens + embedded_positions\n",
        "\n",
        "    def compute_mask(self, inputs, mask=None):\n",
        "        return tf.math.not_equal(inputs, 0)\n",
        "\n",
        "    def get_config(self):\n",
        "        config = super(PositionalEmbedding, self).get_config()\n",
        "        config.update({\n",
        "            \"output_dim\": self.output_dim,\n",
        "            \"sequence_length\": self.sequence_length,\n",
        "            \"input_dim\": self.input_dim,\n",
        "        })\n",
        "        return config"
      ]
    },
    {
      "cell_type": "markdown",
      "metadata": {
        "id": "R6nfZSDkcd_0"
      },
      "source": [
        "**End-to-end Transformer**"
      ]
    },
    {
      "cell_type": "code",
      "execution_count": 11,
      "metadata": {
        "id": "1rRYwvr4cd_1"
      },
      "outputs": [],
      "source": [
        "import keras\n",
        "embed_dim = 256\n",
        "dense_dim = 2048\n",
        "num_heads = 8\n",
        "\n",
        "encoder_inputs = keras.Input(shape=(None,), dtype=\"int64\", name=\"español\")\n",
        "x = PositionalEmbedding(sequence_length, vocab_size, embed_dim)(encoder_inputs)\n",
        "encoder_outputs = TransformerEncoder(embed_dim, dense_dim, num_heads)(x)\n",
        "\n",
        "decoder_inputs = keras.Input(shape=(None,), dtype=\"int64\", name=\"quechua\")\n",
        "x = PositionalEmbedding(sequence_length, vocab_size, embed_dim)(decoder_inputs)\n",
        "x = TransformerDecoder(embed_dim, dense_dim, num_heads)(x, encoder_outputs)\n",
        "x = layers.Dropout(0.5)(x)\n",
        "decoder_outputs = layers.Dense(vocab_size, activation=\"softmax\")(x)\n",
        "transformer = keras.Model([encoder_inputs, decoder_inputs], decoder_outputs)"
      ]
    },
    {
      "cell_type": "code",
      "execution_count": 12,
      "metadata": {
        "colab": {
          "base_uri": "https://localhost:8080/"
        },
        "id": "leszOQ8mJO0W",
        "outputId": "54950291-34a2-4d56-b135-f17ab4b37a86"
      },
      "outputs": [
        {
          "output_type": "stream",
          "name": "stdout",
          "text": [
            "107/107 [==============================] - 432s 4s/step - loss: 3.6105 - accuracy: 0.1835 - val_loss: 2.8021 - val_accuracy: 0.2578\n"
          ]
        },
        {
          "output_type": "execute_result",
          "data": {
            "text/plain": [
              "<keras.callbacks.History at 0x7ff6559fdc90>"
            ]
          },
          "metadata": {},
          "execution_count": 12
        }
      ],
      "source": [
        "transformer.compile(\n",
        "    optimizer=\"rmsprop\",\n",
        "    loss=\"sparse_categorical_crossentropy\",\n",
        "    metrics=[\"accuracy\"])\n",
        "transformer.fit(train_ds, epochs=1, validation_data=val_ds)"
      ]
    },
    {
      "cell_type": "markdown",
      "metadata": {
        "id": "9_AMSNPLcd_2"
      },
      "source": [
        "**Training the sequence-to-sequence Transformer**"
      ]
    },
    {
      "cell_type": "code",
      "execution_count": 13,
      "metadata": {
        "colab": {
          "base_uri": "https://localhost:8080/"
        },
        "id": "B3e9_cLicd_3",
        "outputId": "65940aef-1b9e-46bf-f844-6406bd1855d0"
      },
      "outputs": [
        {
          "output_type": "stream",
          "name": "stdout",
          "text": [
            "-\n",
            "Cómo hablar de sexo con los hijos , 1 / 11\n",
            "[start] 3 paginapi [end]\n",
            "-\n",
            "a ) ¿ Quién nos ha revelado cómo es el Creador ?\n",
            "[start] a imaynatá imaynatá [end]\n",
            "-\n",
            "“ Continúen soportándose unos a otros y perdonándose liberalmente unos a otros ” ( Colosenses 3 : 13 ) .\n",
            "[start] [ 4 paginapi dibujo foto ] [end]\n",
            "-\n",
            "□ Marcos 14 : 12 - 16\n",
            "[start] [ paginapi paginapi dibujo foto ] [end]\n",
            "-\n",
            "¿ Por qué diría usted que David fue un rey victorioso ?\n",
            "[start] imaynatá imaynatá [end]\n",
            "-\n",
            "A visitar Betel , es decir , alguna de las 118 sucursales que los testigos de Jehová tienen en el mundo .\n",
            "[start] a [UNK] [UNK] [UNK] [UNK] [end]\n",
            "-\n",
            "b ) ¿ Qué preguntas contestaremos ?\n",
            "[start] b imaynatá [end]\n",
            "-\n",
            "Por ejemplo , estaban los lares y penates , que protegían a las familias , y la diosa Vesta , quien se ocupaba del fuego del hogar .\n",
            "[start] kay [UNK] [UNK] [UNK] [UNK] [end]\n",
            "-\n",
            "En la Biblia se llama a Jesucristo “ el testigo fiel y verdadero ” .\n",
            "[start] kay [UNK] [UNK] [UNK] [end]\n",
            "-\n",
            "¿ Qué había que hacer para entrar en el descanso de Dios a ) en tiempos de Moisés ?\n",
            "[start] imaynatá imaynatá [end]\n",
            "-\n",
            "Con razón dijo Jesús : “ Acuérdense de la esposa de Lot ” .\n",
            "[start] kay [UNK] [UNK] [UNK] [end]\n",
            "-\n",
            "Que debemos guiarnos por los principios bíblicos , como el que hallamos en Proverbios 18 : 13 : “ Cuando alguien responde a un asunto antes de oírlo , eso es tontedad de su parte y una humillación ” .\n",
            "[start] kay [UNK] [UNK] [UNK] [UNK] [end]\n",
            "-\n",
            "13 - 19 de julio\n",
            "[start] [ paginapi paginapi [end]\n",
            "-\n",
            "¿ Creyó María en la promesa del ángel ?\n",
            "[start] imaynatá imaynatá [end]\n",
            "-\n",
            "Todo parece indicar que Jesús le puso de manera profética el nombre “ Cefas ” , que significa “ piedra ” o “ roca ” .\n",
            "[start] kay [UNK] [UNK] [UNK] [UNK] [end]\n",
            "-\n",
            "Jesús mira a Pedro , y Pedro se acuerda de lo que Jesús le había dicho unas horas atrás : “ Antes que un gallo cante , me repudiarás [ dirás que no me conoces ] tres veces ” .\n",
            "[start] kay [UNK] [UNK] [UNK] [UNK] [end]\n",
            "-\n",
            "Y cuando observo cómo cambia la vida de un estudiante de la Biblia gracias al mensaje cristiano , no puedo menos que pensar : ‘ ¡ Qué verdades tan extraordinarias estamos difundiendo ! ’ ” .\n",
            "[start] kay [UNK] [UNK] [UNK] [UNK] [UNK] [end]\n",
            "-\n",
            "( Lea Lucas 21 : 7 , 10 , 11 , 31 , 34 , 35 . )\n",
            "[start] [ paginapi paginapi dibujo foto ] [end]\n",
            "-\n",
            "Pero , cuando cumplí 17 , lo único que me interesaba era estar con mis amigos de la escuela , ir a discotecas , escuchar música heavy metal y beber .\n",
            "[start] kay [UNK] [UNK] [UNK] [UNK] [end]\n",
            "-\n",
            "Por eso , preguntémonos : “ ¿ Podría yo también ensanchar mi corazón ? ” .\n",
            "[start] kay [UNK] [UNK] [end]\n"
          ]
        }
      ],
      "source": [
        "import numpy as np\n",
        "spa_vocab = target_vectorization.get_vocabulary()\n",
        "spa_index_lookup = dict(zip(range(len(spa_vocab)), spa_vocab))\n",
        "max_decoded_sentence_length = 20\n",
        "\n",
        "def decode_sequence(input_sentence):\n",
        "    tokenized_input_sentence = source_vectorization([input_sentence])\n",
        "    decoded_sentence = \"[start]\"\n",
        "    for i in range(max_decoded_sentence_length):\n",
        "        tokenized_target_sentence = target_vectorization([decoded_sentence])[:, :-1]\n",
        "        predictions = transformer([tokenized_input_sentence, tokenized_target_sentence])\n",
        "        sampled_token_index = np.argmax(predictions[0, i, :])\n",
        "        sampled_token = spa_index_lookup[sampled_token_index]\n",
        "        decoded_sentence += \" \" + sampled_token\n",
        "        if sampled_token == \"[end]\":\n",
        "            break\n",
        "    return decoded_sentence\n",
        "\n",
        "test_spa_texts = [pair[0] for pair in test_pairs]\n",
        "for _ in range(20):\n",
        "    input_sentence = random.choice(test_spa_texts)\n",
        "    print(\"-\")\n",
        "    print(input_sentence)\n",
        "    print(decode_sequence(input_sentence))"
      ]
    },
    {
      "cell_type": "markdown",
      "metadata": {
        "id": "F8bJqYy3cd_4"
      },
      "source": [
        "## Precision del modelo"
      ]
    },
    {
      "cell_type": "code",
      "source": [
        "import matplotlib\n",
        "import matplotlib.pyplot as plt\n",
        "import numpy as np\n",
        "\n",
        "x = range(0,30)\n",
        "x1 = [0.1960, 0.2768, 0.3209 , 0.3526, 0.3766, 0.3970, 0.4169, 0.4344, 0.4524, 0.4703 , 0.4874, 0.5064, 0.5220, 0.5384, 0.5554, 0.5719, 0.5875, 0.6020, 0.6180, 0.6312, 0.6451, 0.6582, 0.6695, 0.6798, 0.6885, 0.6981, 0.7049, 0.7129, 0.7191, 0.7247] \n",
        "x2 = [0.2965, 0.3120, 0.3697, 0.3499, 0.3935, 0.3906, 0.3741, 0.3908, 0.4092, 0.4083, 0.4037, 0.3983, 0.3723, 0.3861, 0.3707, 0.3928, 0.3810, 0.3903, 0.3686, 0.3828, 0.3737, 0.3959, 0.3900, 0.3755, 0.3715, 0.3790, 0.3873, 0.3934, 0.3775, 0.3813]\n",
        "#Generamos una grafica lineal para una recta en X\n",
        "plt.plot(x, x1, label='accuracy train')\n",
        "#Generamos otra grafica lineal para una X cuadratica\n",
        "plt.plot(x, x2, label='accuracy val')\n",
        "#Agregamos las etiquetas y añadimos una leyenda.\n",
        "plt.xlabel('Epocas')\n",
        "plt.ylabel('Precision')\n",
        "plt.title(\"Precision de nuestro modelo\")\n",
        "plt.legend()\n",
        "plt.savefig('grafica_lineal.png')\n",
        "plt.show()"
      ],
      "metadata": {
        "colab": {
          "base_uri": "https://localhost:8080/",
          "height": 295
        },
        "id": "wIc1flCWEnDW",
        "outputId": "afed9595-3951-4ad2-d8f2-c93284003273"
      },
      "execution_count": null,
      "outputs": [
        {
          "output_type": "display_data",
          "data": {
            "text/plain": [
              "<Figure size 432x288 with 1 Axes>"
            ],
            "image/png": "[encoded data removed]"
          },
          "metadata": {
            "needs_background": "light"
          }
        }
      ]
    }
  ],
  "metadata": {
    "colab": {
      "collapsed_sections": [],
      "name": "chapter11_part04_sequence-to-sequence-learning.ipynb",
      "provenance": []
    },
    "kernelspec": {
      "display_name": "Python 3",
      "language": "python",
      "name": "python3"
    },
    "language_info": {
      "codemirror_mode": {
        "name": "ipython",
        "version": 3
      },
      "file_extension": ".py",
      "mimetype": "text/x-python",
      "name": "python",
      "nbconvert_exporter": "python",
      "pygments_lexer": "ipython3",
      "version": "3.7.0"
    }
  },
  "nbformat": 4,
  "nbformat_minor": 0
}